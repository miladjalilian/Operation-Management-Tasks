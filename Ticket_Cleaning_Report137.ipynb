{
 "cells": [
  {
   "cell_type": "code",
   "execution_count": 1,
   "metadata": {},
   "outputs": [],
   "source": [
    "import pandas as pd\n",
    "import numpy as np\n",
    "import math\n",
    "import glob"
   ]
  },
  {
   "cell_type": "code",
   "execution_count": 2,
   "metadata": {},
   "outputs": [],
   "source": [
    "df = pd.DataFrame()\n",
    "for f in glob.glob(\"G:/Python_Codes/Notebooks/Tickets/*.xlsx\"):\n",
    "    #tickets = pd.read_excel(f)\n",
    "    tickets = pd.read_excel(f)\n",
    "    df = df.append(tickets,ignore_index=True,sort=False)"
   ]
  },
  {
   "cell_type": "code",
   "execution_count": 3,
   "metadata": {},
   "outputs": [],
   "source": [
    " #df.to_excel('G:/Python_Codes/Notebooks/Tickets/df.xlsx')"
   ]
  },
  {
   "cell_type": "code",
   "execution_count": 4,
   "metadata": {},
   "outputs": [
    {
     "data": {
      "text/plain": [
       "Index(['Row', 'TTYPE', 'Fault Number', 'Ticket Status', 'Fault CWorg Name',\n",
       "       'Fault Cause', 'Fault Impact', 'Parent TT', 'Child TT', 'Province',\n",
       "       'Ticket Creator', 'HUB_SITE_\\nNODE_ID', 'Dependent Site List', 'BSCID',\n",
       "       'Job Ticket Status', 'Job Description', 'WorkOrder ID',\n",
       "       'WorkOrder WorkGroup Name', 'WorkOrder \\nStatus', 'Ticket Type',\n",
       "       'Ticket \\nCreation Date', 'Ticket \\nTitle', 'Fault\\nImpact',\n",
       "       'Ticket \\nDescription', 'Alarm Acknowledge Date',\n",
       "       'Alarm \\nReported time', 'Alarm \\nCleared Time', 'Ticket Confirm Time',\n",
       "       'Total Down Site', 'Sum Of Cell Dependent', 'TRX Faulty',\n",
       "       'Total 3G\\nCell Down', 'SUBCON', '2G_SITEDOWN_\\nFLUCTUATING',\n",
       "       '3G_SITEDOWN_\\nFLUCTUATING', '4G_SITEDOWN_\\nFLUCTUATING',\n",
       "       'Ticket Closure Type', 'Activity Description', 'MTTA', 'MTTR', 'MTCT',\n",
       "       'Root Cause\\nBIG6A', 'Park Reason Comment', 'PARK_BIG_6',\n",
       "       'Park Start Time', 'Park End Time', 'TCTLINK', 'Fault Confirmed By',\n",
       "       'Created Job\\nTicket Time', 'Last Closed\\nJob Ticket Time',\n",
       "       'Last Job Ticket\\nComment', 'Last TT\\nComment', 'Last TT\\nComment Time',\n",
       "       'Last TT\\nComment Owner', 'MTBRTC Total', 'MTBRTC\\nProvince',\n",
       "       'MTBRTC\\nNAK', 'Power Alarm', 'Status Of Site Value',\n",
       "       'Last Cleared Time', 'Last WorkOrder Comment', 'User Close WorkOrder ',\n",
       "       'Park Reason', 'Fault Cleared By', 'Acknowledge By',\n",
       "       'Alarm Created Time', 'MTCT NEW', 'DISASTER'],\n",
       "      dtype='object')"
      ]
     },
     "execution_count": 4,
     "metadata": {},
     "output_type": "execute_result"
    }
   ],
   "source": [
    "df.columns"
   ]
  },
  {
   "cell_type": "code",
   "execution_count": 5,
   "metadata": {},
   "outputs": [],
   "source": [
    "df.columns = ('ROW','TType','Ticket Number','Ticket Status','Fault CWorg Name',\\\n",
    "              'Fault Cause','Impact','Parent TT', 'Child TT','Province',\\\n",
    "              'Ticket Creator','Site Name','Dependent Site List','BSCID',\\\n",
    "              'Job Ticket Status','Job Description','WorkOrder ID',\\\n",
    "              'WorkOrder WorkGroup Name','WorkOrder Status','Ticket Type',\\\n",
    "              'Creation Date Time','Ticket Title','Fault Impact2',\\\n",
    "              'Ticket_Description','Alarm Acknowledge Time','Impact Start Date',\\\n",
    "              'Impact End Date','Event End Date','Count (2G, 3G, 4G)',\\\n",
    "              'Sum Of Cell Dependent', 'TRX Faulty','Total 3G Down Sites','SUBCON',\\\n",
    "              'Total 2G Down Sites','3G_SITEDOWN_FLUCTUATING',\\\n",
    "              'Total 4G Down Sites','Ticket Closure Type',\\\n",
    "              'Activity Description','MTTA','MTTR','MTCT','Root Cause Big 6',\\\n",
    "              'Park Reason Comment','PARK_BIG_6','Park Start Time','Park End Time',\\\n",
    "              'TCTLINK','Fault Confirmed By', 'Created Job Ticket Time',\\\n",
    "              'last_close_jt_time','Last Job Ticket Comment',\\\n",
    "              'Last TT Comment','Last TT Comment Time','Last TT Comment Owner',\\\n",
    "              'MTBRTC Total','MTBRTC Province','MTBRTC NAK', 'Power Alarm',\\\n",
    "              'Status Of Site Value','Last Cleared Time','Last WorkOrder Comment',\\\n",
    "              'User Close WorkOrder' ,'Park Reason','Fault Cleared by','ACKNOWLEDEGED',\\\n",
    "              'Alarm Created Time', 'MTCT NEW','DISASTER')"
   ]
  },
  {
   "cell_type": "code",
   "execution_count": 6,
   "metadata": {},
   "outputs": [],
   "source": [
    "#JOB_TICKET_ID"
   ]
  },
  {
   "cell_type": "code",
   "execution_count": 7,
   "metadata": {},
   "outputs": [],
   "source": [
    "df = df[df['Fault CWorg Name'].isin ([ 'MBB_FO_RAN','TEH_FO_RAN','NAK_FO_RAN']) ]"
   ]
  },
  {
   "cell_type": "code",
   "execution_count": 8,
   "metadata": {},
   "outputs": [],
   "source": [
    " #df.to_excel('G:/Python_Codes/Notebooks/Tickets/df.xlsx')"
   ]
  },
  {
   "cell_type": "code",
   "execution_count": 9,
   "metadata": {},
   "outputs": [],
   "source": [
    "df['Health_Check']=df['Ticket_Description'].str.findall(r'[H][C]|[h][c]|[h][.][c]|[H][.][C]|\\bHEALTH CHECK|\\bhealth check|\\bHealth check|\\bHealth Check')"
   ]
  },
  {
   "cell_type": "code",
   "execution_count": 10,
   "metadata": {},
   "outputs": [
    {
     "name": "stderr",
     "output_type": "stream",
     "text": [
      "G:\\Anaconda\\lib\\site-packages\\ipykernel_launcher.py:1: DeprecationWarning: The default dtype for empty Series will be 'object' instead of 'float64' in a future version. Specify a dtype explicitly to silence this warning.\n",
      "  \"\"\"Entry point for launching an IPython kernel.\n"
     ]
    }
   ],
   "source": [
    "p = df.apply(lambda y: pd.Series(y['Health_Check']),axis=1).stack().reset_index(level=1, drop=True)\n",
    "p.name = 'Health_Check'\n",
    "df1= df.drop('Health_Check', axis=1).join(p).loc[:,('TType','Ticket Number','Province','Site Name','Dependent Site List'\n",
    "                                                                                  ,'Total 2G Down Sites','Total 3G Down Sites','Total 4G Down Sites'\n",
    "                                                                                  ,'Count (2G, 3G, 4G)', 'Impact','Alarm Created Time','Creation Date Time'\n",
    "                                                                                  ,'Alarm Acknowledge Time', 'Impact Start Date', 'Impact End Date','Event End Date'\n",
    "                                                                                  ,'last_close_jt_time','Ticket_Description','Ticket Title','Ticket Closure Type'\n",
    "                                                                                  ,'Root Cause Big 6','Health_Check','Last Job Ticket Comment','Last TT Comment')]\n",
    "df1['Health_Check'] = df1.apply (lambda y : 0 if (pd.isna(y['Health_Check'])) else 1, axis = 1)\n",
    "df1.reset_index(inplace=True)\n",
    "df1 = df1.drop(columns = 'index')"
   ]
  },
  {
   "cell_type": "code",
   "execution_count": 11,
   "metadata": {},
   "outputs": [],
   "source": [
    "df1['Dependent Site List']=df1['Dependent Site List'].str.findall(r'[a-zA-Z][a-zA-Z]\\d\\d\\d\\d|[a-zA-Z][a-zA-Z][a-zA-Z][a-zA-Z]\\d\\d\\d\\d|[a-zA-Z][a-zA-Z]\\d[a-zA-Z]\\d\\d\\d\\d|[a-zA-Z][a-zA-Z][a-zA-Z]\\d[a-zA-Z]\\d\\d\\d\\d')"
   ]
  },
  {
   "cell_type": "code",
   "execution_count": 12,
   "metadata": {},
   "outputs": [
    {
     "name": "stderr",
     "output_type": "stream",
     "text": [
      "G:\\Anaconda\\lib\\site-packages\\ipykernel_launcher.py:1: DeprecationWarning: The default dtype for empty Series will be 'object' instead of 'float64' in a future version. Specify a dtype explicitly to silence this warning.\n",
      "  \"\"\"Entry point for launching an IPython kernel.\n"
     ]
    }
   ],
   "source": [
    "s = df1.apply(lambda x: pd.Series(x['Dependent Site List']),axis=1).stack().reset_index(level=1, drop=True)\n",
    "s.name = 'Dependent Site List'\n",
    "df2= df1.drop('Dependent Site List', axis=1).join(s).loc[:,('TType','Ticket Number','Province','Site Name','Dependent Site List'\n",
    "                                                                                  ,'Total 2G Down Sites','Total 3G Down Sites','Total 4G Down Sites'\n",
    "                                                                                  ,'Count (2G, 3G, 4G)', 'Impact','Alarm Created Time','Creation Date Time'\n",
    "                                                                                  ,'Alarm Acknowledge Time', 'Impact Start Date', 'Impact End Date','Event End Date'\n",
    "                                                                                  ,'last_close_jt_time','Ticket_Description','Ticket Title','Ticket Closure Type'\n",
    "                                                                                  ,'Root Cause Big 6','Health_Check','Last Job Ticket Comment','Last TT Comment')]\n",
    "df2.reset_index(inplace=True)\n",
    "df2 = df2.drop(columns = 'index')"
   ]
  },
  {
   "cell_type": "code",
   "execution_count": 13,
   "metadata": {},
   "outputs": [],
   "source": [
    "df2['Site Name']=df2['Site Name'].str.findall(r'[a-zA-Z][a-zA-Z]\\d\\d\\d\\d|[a-zA-Z][a-zA-Z][a-zA-Z][a-zA-Z]\\d\\d\\d\\d|[a-zA-Z][a-zA-Z]\\d[a-zA-Z]\\d\\d\\d\\d|[a-zA-Z][a-zA-Z][a-zA-Z]\\d[a-zA-Z]\\d\\d\\d\\d')"
   ]
  },
  {
   "cell_type": "code",
   "execution_count": 14,
   "metadata": {},
   "outputs": [
    {
     "name": "stderr",
     "output_type": "stream",
     "text": [
      "G:\\Anaconda\\lib\\site-packages\\ipykernel_launcher.py:1: DeprecationWarning: The default dtype for empty Series will be 'object' instead of 'float64' in a future version. Specify a dtype explicitly to silence this warning.\n",
      "  \"\"\"Entry point for launching an IPython kernel.\n"
     ]
    }
   ],
   "source": [
    "z = df2.apply(lambda y: pd.Series(y['Site Name']),axis=1).stack().reset_index(level=1, drop=True)\n",
    "z.name = 'Site Name'\n",
    "df3= df2.drop('Site Name', axis=1).join(z).loc[:,('TType','Ticket Number','Province','Site Name','Dependent Site List'\n",
    "                                                                                  ,'Total 2G Down Sites','Total 3G Down Sites','Total 4G Down Sites'\n",
    "                                                                                  ,'Count (2G, 3G, 4G)', 'Impact','Alarm Created Time','Creation Date Time'\n",
    "                                                                                  ,'Alarm Acknowledge Time', 'Impact Start Date', 'Impact End Date','Event End Date'\n",
    "                                                                                  ,'last_close_jt_time','Ticket_Description','Ticket Title','Ticket Closure Type'\n",
    "                                                                                  ,'Root Cause Big 6','Health_Check','Last Job Ticket Comment','Last TT Comment')]\n",
    "df3.reset_index(inplace=True)\n",
    "df3 = df3.drop(columns = 'index')"
   ]
  },
  {
   "cell_type": "code",
   "execution_count": 15,
   "metadata": {},
   "outputs": [],
   "source": [
    "df3['description']=df3['Ticket_Description'].str.findall(r'[BR]\\d\\d\\d\\d[NHEW]|[BR]\\d\\d\\d[NHEW]|[a-zA-Z][a-zA-Z]\\d\\d\\d\\d|[a-zA-Z][a-zA-Z][a-zA-Z][a-zA-Z]\\d\\d\\d\\d|[a-zA-Z][a-zA-Z]\\d[a-zA-Z]\\d\\d\\d\\d|[a-zA-Z][a-zA-Z][a-zA-Z]\\d[a-zA-Z]\\d\\d\\d\\d')"
   ]
  },
  {
   "cell_type": "code",
   "execution_count": 16,
   "metadata": {},
   "outputs": [
    {
     "name": "stderr",
     "output_type": "stream",
     "text": [
      "G:\\Anaconda\\lib\\site-packages\\ipykernel_launcher.py:1: DeprecationWarning: The default dtype for empty Series will be 'object' instead of 'float64' in a future version. Specify a dtype explicitly to silence this warning.\n",
      "  \"\"\"Entry point for launching an IPython kernel.\n"
     ]
    }
   ],
   "source": [
    "x = df3.apply(lambda y: pd.Series(y['description']),axis=1).stack().reset_index(level=1, drop=True)\n",
    "x.name = 'description'\n",
    "df4= df3.drop('description', axis=1).join(x).loc[:,('TType','Ticket Number','Province','Site Name','Dependent Site List'\n",
    "                                                                                  ,'Total 2G Down Sites','Total 3G Down Sites','Total 4G Down Sites'\n",
    "                                                                                  ,'Count (2G, 3G, 4G)', 'Impact','Alarm Created Time','Creation Date Time'\n",
    "                                                                                  ,'Alarm Acknowledge Time', 'Impact Start Date', 'Impact End Date','Event End Date'\n",
    "                                                                                  ,'last_close_jt_time','Ticket_Description','Ticket Title','Ticket Closure Type'\n",
    "                                                                                  ,'Root Cause Big 6','Health_Check','description','Last Job Ticket Comment','Last TT Comment')]\n",
    "df4.reset_index(inplace=True)\n",
    "df4 = df4.drop(columns = 'index')"
   ]
  },
  {
   "cell_type": "code",
   "execution_count": 17,
   "metadata": {},
   "outputs": [],
   "source": [
    "df4 = df4.replace({'Province' : {'ALBORZ': 'KJ', 'ARDABIL': 'AR','AZARGHARBI':'AG','AZARSHARGHI':'AS','BUSHEHR':'BU'\n",
    "                          ,'CHAHARMAHAL':'CH','ESFAHAN':'ES','FARS':'FS','GILAN':'GL','GOLESTAN':'GN','HAMEDAN':'HN','ARADABIL':'AR'\n",
    "                          ,'HORMOZGAN':'HZ','ILAAM':'IL','KERMAN':'KM','KERMANSHAH':'KS','KHORASANRAZAVI':'KH' ,'KHORASNRAZAVI':'KH'\n",
    "                          ,'KHUZESTAN':'KZ','KOHGILOOYEH':'KB','KURDESTAN':'KD','LORESTAN':'LN','MARKAZI':'MK' , 'ISFAHAN':'ES'\n",
    "                          ,'MAZANDARAN':'MA','N KHORASAN':'NK','QAZVIN':'QN','QOM':'QM','S KHORASAN':'SK','SISTAN':'SB','GHOM':'QM'\n",
    "                          ,'SEMNAN':'SM','SISTAN AND BALUCHESTAN':'SB','TEHRAN':'TH','KOHKILOOYE':'KB'\n",
    "                         ,'YAZD':'YZ','ZANJAN':'ZN'}});\n"
   ]
  },
  {
   "cell_type": "code",
   "execution_count": 18,
   "metadata": {},
   "outputs": [],
   "source": [
    "df66 = df4.loc[:,('TType','Ticket Number','Province','Site Name'\n",
    "                                                                                  ,'Total 2G Down Sites','Total 3G Down Sites','Total 4G Down Sites'\n",
    "                                                                                  ,'Count (2G, 3G, 4G)', 'Impact','Alarm Created Time','Creation Date Time'\n",
    "                                                                                  ,'Alarm Acknowledge Time', 'Impact Start Date', 'Impact End Date','Event End Date'\n",
    "                                                                                  ,'last_close_jt_time','Ticket Title','Ticket Closure Type'\n",
    "                                                                                  ,'Root Cause Big 6','Health_Check','Ticket_Description','Last Job Ticket Comment','Last TT Comment')]"
   ]
  },
  {
   "cell_type": "code",
   "execution_count": 19,
   "metadata": {},
   "outputs": [],
   "source": [
    "df77 = df4.loc[:,('TType','Ticket Number','Province','Dependent Site List'\n",
    "                                                                                  ,'Total 2G Down Sites','Total 3G Down Sites','Total 4G Down Sites'\n",
    "                                                                                  ,'Count (2G, 3G, 4G)', 'Impact','Alarm Created Time','Creation Date Time'\n",
    "                                                                                  ,'Alarm Acknowledge Time', 'Impact Start Date', 'Impact End Date','Event End Date'\n",
    "                                                                                  ,'last_close_jt_time','Ticket Title','Ticket Closure Type'\n",
    "                                                                                  ,'Root Cause Big 6','Health_Check','Ticket_Description','Last Job Ticket Comment','Last TT Comment')]"
   ]
  },
  {
   "cell_type": "code",
   "execution_count": 20,
   "metadata": {},
   "outputs": [],
   "source": [
    "df88 = df4.loc[:,('TType','Ticket Number','Province','description'\n",
    "                                                                                  ,'Total 2G Down Sites','Total 3G Down Sites','Total 4G Down Sites'\n",
    "                                                                                  ,'Count (2G, 3G, 4G)', 'Impact','Alarm Created Time','Creation Date Time'\n",
    "                                                                                  ,'Alarm Acknowledge Time', 'Impact Start Date', 'Impact End Date','Event End Date'\n",
    "                                                                                  ,'last_close_jt_time','Ticket Title','Ticket Closure Type'\n",
    "                                                                                  ,'Root Cause Big 6','Health_Check','Ticket_Description','Last Job Ticket Comment','Last TT Comment')]"
   ]
  },
  {
   "cell_type": "code",
   "execution_count": 21,
   "metadata": {},
   "outputs": [],
   "source": [
    "df66.drop_duplicates(inplace=True)\n",
    "df77.drop_duplicates(inplace=True)\n",
    "df88.drop_duplicates(inplace=True)"
   ]
  },
  {
   "cell_type": "code",
   "execution_count": 22,
   "metadata": {},
   "outputs": [],
   "source": [
    "df77.columns = df66.columns\n",
    "df88.columns = df66.columns"
   ]
  },
  {
   "cell_type": "code",
   "execution_count": 23,
   "metadata": {},
   "outputs": [],
   "source": [
    "df_merged= pd.DataFrame()"
   ]
  },
  {
   "cell_type": "code",
   "execution_count": 24,
   "metadata": {},
   "outputs": [],
   "source": [
    "df_merged = df_merged.append(df66,ignore_index=True,sort=False)\n",
    "df_merged = df_merged.append(df77,ignore_index=True,sort=False)\n",
    "df_merged = df_merged.append(df88,ignore_index=True,sort=False)\n",
    "df_merged.drop_duplicates(inplace=True)"
   ]
  },
  {
   "cell_type": "code",
   "execution_count": 25,
   "metadata": {},
   "outputs": [],
   "source": [
    " df_merged.to_excel('G:/Python_Codes/Notebooks/Tickets/Report137_Clean.xlsx')"
   ]
  }
 ],
 "metadata": {
  "kernelspec": {
   "display_name": "Python 3",
   "language": "python",
   "name": "python3"
  },
  "language_info": {
   "codemirror_mode": {
    "name": "ipython",
    "version": 3
   },
   "file_extension": ".py",
   "mimetype": "text/x-python",
   "name": "python",
   "nbconvert_exporter": "python",
   "pygments_lexer": "ipython3",
   "version": "3.7.0"
  }
 },
 "nbformat": 4,
 "nbformat_minor": 2
}
