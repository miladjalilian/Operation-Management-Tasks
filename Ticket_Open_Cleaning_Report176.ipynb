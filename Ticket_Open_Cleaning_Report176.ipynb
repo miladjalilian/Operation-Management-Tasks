{
 "cells": [
  {
   "cell_type": "code",
   "execution_count": 22,
   "metadata": {},
   "outputs": [],
   "source": [
    "import pandas as pd\n",
    "import numpy as np\n",
    "import math\n",
    "import glob"
   ]
  },
  {
   "cell_type": "code",
   "execution_count": 23,
   "metadata": {},
   "outputs": [
    {
     "name": "stdout",
     "output_type": "stream",
     "text": [
      "Index(['TTYPE', 'TICKET_NUMBER', 'PROVINCE', 'ZONE_1', 'ORIGINATOR_GROUP',\n",
      "       'TICKET_CREATOR', 'TICKET_STATUS', 'EQUIPMENT', 'SITE_ID', 'SITE_NAME',\n",
      "       'DEPENDENT_SITES', 'BSC_RNC', 'CREATION_DATE_TIME', 'TICKET_TITLE',\n",
      "       'IMPACT', 'TICKET_TYPE', 'TICKET_DESCRIPTION', 'ALARM_ACKNOWLEDGE_TIME',\n",
      "       'IMPACT_START_DATE', 'IMPACT_END_DATE', 'NUMBER_OF_SITE_DOWN',\n",
      "       'NUMBER_OF_CELL_DOWN', 'NUMBER_OF_TRX_DOWN', 'SUB_CON', 'CURRENT_ISSUE',\n",
      "       'LAST_TT_COMMENT_TIME', 'SUSPENSION_REASON', 'SUSPENSION_START_DATE',\n",
      "       'SUSPENSION_END_DATE', 'SUSPENSION_BIG_6', 'ESCALATION_TEAM',\n",
      "       'SOLUTION_COMMENTS_DATE', 'CREATOR_RESPONSE_TIME', 'OPEN_FAULT_PERIOD',\n",
      "       'MAX_SLA', 'SLA_BREACHED', 'TCTLINK', 'MTCT', 'OLD_TICKET',\n",
      "       'REGION_CODE', 'LOCATION_1', 'TOTAL_2G_DOWN_SITES',\n",
      "       'TOTAL_3G_DOWN_SITES', 'TOTAL_4G_DOWN_SITES', 'AFFECTED',\n",
      "       'EVENT_END_DATE', 'JOB_DESCRIPTION_STATUS', 'LAST_PROVINCE_UPDATE',\n",
      "       'LAST_JT_COMMENT_TIME', 'LAST_JT_COMMENT', 'ALARM_CREATED_TIME'],\n",
      "      dtype='object')\n"
     ]
    }
   ],
   "source": [
    "df = pd.DataFrame()\n",
    "for f in glob.glob(\"G:/Python_Codes/Notebooks/Tickets/*.xlsx\"):\n",
    "    xlsx = pd.ExcelFile(f)\n",
    "    x = pd.read_excel(xlsx  , sheet_name= ['Sheet1'])#,sheet_name= ['MBB open','Tehran open'])\n",
    "    x['Sheet1'] = x['Sheet1'].loc[:,('TTYPE', 'TICKET_NUMBER', 'PROVINCE', 'ZONE_1', 'ORIGINATOR_GROUP',\n",
    "       'TICKET_CREATOR', 'TICKET_STATUS', 'EQUIPMENT', 'SITE_ID', 'SITE_NAME',\n",
    "       'DEPENDENT_SITES', 'BSC_RNC', 'CREATION_DATE_TIME', 'TICKET_TITLE',\n",
    "       'IMPACT', 'TICKET_TYPE', 'TICKET_DESCRIPTION', 'ALARM_ACKNOWLEDGE_TIME',\n",
    "       'IMPACT_START_DATE', 'IMPACT_END_DATE', 'NUMBER_OF_SITE_DOWN',\n",
    "       'NUMBER_OF_CELL_DOWN', 'NUMBER_OF_TRX_DOWN', 'SUB_CON', 'CURRENT_ISSUE',\n",
    "       'LAST_TT_COMMENT_TIME', 'SUSPENSION_REASON', 'SUSPENSION_START_DATE',\n",
    "       'SUSPENSION_END_DATE', 'SUSPENSION_BIG_6', 'ESCALATION_TEAM',\n",
    "       'SOLUTION_COMMENTS_DATE', 'CREATOR_RESPONSE_TIME', 'OPEN_FAULT_PERIOD',\n",
    "       'MAX_SLA', 'SLA_BREACHED', 'TCTLINK', 'MTCT', 'OLD_TICKET',\n",
    "       'REGION_CODE', 'LOCATION_1', 'TOTAL_2G_DOWN_SITES',\n",
    "       'TOTAL_3G_DOWN_SITES', 'TOTAL_4G_DOWN_SITES', 'AFFECTED',\n",
    "       'EVENT_END_DATE', 'JOB_DESCRIPTION_STATUS', 'LAST_PROVINCE_UPDATE',\n",
    "       'LAST_JT_COMMENT_TIME', 'LAST_JT_COMMENT','ALARM_CREATED_TIME')]\n",
    "#     x['MBB open'] = x['MBB open'].loc[:,('TTYPE', 'TICKET_NUMBER', 'PROVINCE', 'ZONE_1', 'ORIGINATOR_GROUP',\n",
    "#        'TICKET_CREATOR', 'TICKET_STATUS', 'EQUIPMENT', 'SITE_ID', 'SITE_NAME',\n",
    "#        'DEPENDENT_SITES', 'BSC_RNC', 'CREATION_DATE_TIME', 'TICKET_TITLE',\n",
    "#        'IMPACT', 'TICKET_TYPE', 'TICKET_DESCRIPTION', 'ALARM_ACKNOWLEDGE_TIME',\n",
    "#        'IMPACT_START_DATE', 'IMPACT_END_DATE', 'NUMBER_OF_SITE_DOWN',\n",
    "#        'NUMBER_OF_CELL_DOWN', 'NUMBER_OF_TRX_DOWN', 'SUB_CON', 'CURRENT_ISSUE',\n",
    "#        'LAST_TT_COMMENT_TIME', 'SUSPENSION_REASON', 'SUSPENSION_START_DATE',\n",
    "#        'SUSPENSION_END_DATE', 'SUSPENSION_BIG_6', 'ESCALATION_TEAM',\n",
    "#        'SOLUTION_COMMENTS_DATE', 'CREATOR_RESPONSE_TIME', 'OPEN_FAULT_PERIOD',\n",
    "#        'MAX_SLA', 'SLA_BREACHED', 'TCTLINK', 'MTCT', 'OLD_TICKET',\n",
    "#        'REGION_CODE', 'LOCATION_1', 'TOTAL_2G_DOWN_SITES',\n",
    "#        'TOTAL_3G_DOWN_SITES', 'TOTAL_4G_DOWN_SITES', 'AFFECTED',\n",
    "#        'EVENT_END_DATE', 'JOB_DESCRIPTION_STATUS', 'LAST_PROVINCE_UPDATE',\n",
    "#        'LAST_JT_COMMENT_TIME', 'LAST_JT_COMMENT')]\n",
    "    \n",
    "    print(x['Sheet1'].columns)\n",
    "    #print(x['MBB open'].columns)\n",
    "    df = df.append(x['Sheet1'],ignore_index=True)\n",
    "    #df = df.append(x['MBB open'],ignore_index=True)"
   ]
  },
  {
   "cell_type": "code",
   "execution_count": 24,
   "metadata": {},
   "outputs": [
    {
     "data": {
      "text/plain": [
       "Index(['TTYPE', 'TICKET_NUMBER', 'PROVINCE', 'ZONE_1', 'ORIGINATOR_GROUP',\n",
       "       'TICKET_CREATOR', 'TICKET_STATUS', 'EQUIPMENT', 'SITE_ID', 'SITE_NAME',\n",
       "       'DEPENDENT_SITES', 'BSC_RNC', 'CREATION_DATE_TIME', 'TICKET_TITLE',\n",
       "       'IMPACT', 'TICKET_TYPE', 'TICKET_DESCRIPTION', 'ALARM_ACKNOWLEDGE_TIME',\n",
       "       'IMPACT_START_DATE', 'IMPACT_END_DATE', 'NUMBER_OF_SITE_DOWN',\n",
       "       'NUMBER_OF_CELL_DOWN', 'NUMBER_OF_TRX_DOWN', 'SUB_CON', 'CURRENT_ISSUE',\n",
       "       'LAST_TT_COMMENT_TIME', 'SUSPENSION_REASON', 'SUSPENSION_START_DATE',\n",
       "       'SUSPENSION_END_DATE', 'SUSPENSION_BIG_6', 'ESCALATION_TEAM',\n",
       "       'SOLUTION_COMMENTS_DATE', 'CREATOR_RESPONSE_TIME', 'OPEN_FAULT_PERIOD',\n",
       "       'MAX_SLA', 'SLA_BREACHED', 'TCTLINK', 'MTCT', 'OLD_TICKET',\n",
       "       'REGION_CODE', 'LOCATION_1', 'TOTAL_2G_DOWN_SITES',\n",
       "       'TOTAL_3G_DOWN_SITES', 'TOTAL_4G_DOWN_SITES', 'AFFECTED',\n",
       "       'EVENT_END_DATE', 'JOB_DESCRIPTION_STATUS', 'LAST_PROVINCE_UPDATE',\n",
       "       'LAST_JT_COMMENT_TIME', 'LAST_JT_COMMENT', 'ALARM_CREATED_TIME'],\n",
       "      dtype='object')"
      ]
     },
     "execution_count": 24,
     "metadata": {},
     "output_type": "execute_result"
    }
   ],
   "source": [
    "df.columns"
   ]
  },
  {
   "cell_type": "code",
   "execution_count": 25,
   "metadata": {},
   "outputs": [],
   "source": [
    "df['Health_Check']=df['TICKET_DESCRIPTION'].str.findall(r'[H][C]|[h][.][c]|[H][.][C]|[h][c]|\\bHEALTH CHECK|\\bhealth check|\\bHealth check|\\bHealth Check')"
   ]
  },
  {
   "cell_type": "code",
   "execution_count": 26,
   "metadata": {},
   "outputs": [],
   "source": [
    "#  df.to_excel('G:/Python_Codes/Notebooks/Tickets/df.xlsx')"
   ]
  },
  {
   "cell_type": "code",
   "execution_count": 27,
   "metadata": {},
   "outputs": [
    {
     "name": "stderr",
     "output_type": "stream",
     "text": [
      "G:\\Anaconda\\lib\\site-packages\\ipykernel_launcher.py:1: DeprecationWarning: The default dtype for empty Series will be 'object' instead of 'float64' in a future version. Specify a dtype explicitly to silence this warning.\n",
      "  \"\"\"Entry point for launching an IPython kernel.\n"
     ]
    }
   ],
   "source": [
    "p = df.apply(lambda y: pd.Series(y['Health_Check']),axis=1).stack().reset_index(level=1, drop=True)\n",
    "p.name = 'Health_Check'\n",
    "df1= df.drop('Health_Check', axis=1).join(p).loc[:,('TTYPE','TICKET_NUMBER','PROVINCE','SITE_NAME','DEPENDENT_SITES'\n",
    "                                                                                  ,'TOTAL_2G_DOWN_SITES','TOTAL_3G_DOWN_SITES','TOTAL_4G_DOWN_SITES'\n",
    "                                                                                  ,'NUMBER_OF_SITE_DOWN', 'IMPACT','ALARM_CREATED_TIME','CREATION_DATE_TIME'\n",
    "                                                                                  ,'ALARM_ACKNOWLEDGE_TIME', 'IMPACT_START_DATE', 'IMPACT_END_DATE','EVENT_END_DATE'\n",
    "                                                                                  ,'LAST_JT_COMMENT_TIME','TICKET_DESCRIPTION','TICKET_TITLE','LAST_PROVINCE_UPDATE'\n",
    "                                                                                  ,'TICKET_STATUS','Health_Check','LAST_JT_COMMENT','CURRENT_ISSUE')]\n",
    "df1['Health_Check'] = df1.apply (lambda y : 0 if (pd.isna(y['Health_Check'])) else 1, axis = 1)\n",
    "df1.reset_index(inplace=True)\n",
    "df1 = df1.drop(columns = 'index')"
   ]
  },
  {
   "cell_type": "code",
   "execution_count": 28,
   "metadata": {},
   "outputs": [],
   "source": [
    "df1['DEPENDENT_SITES']=df1['DEPENDENT_SITES'].str.findall(r'[a-zA-Z][a-zA-Z]\\d\\d\\d\\d|[a-zA-Z][a-zA-Z][a-zA-Z][a-zA-Z]\\d\\d\\d\\d|[a-zA-Z][a-zA-Z]\\d[a-zA-Z]\\d\\d\\d\\d|[a-zA-Z][a-zA-Z][a-zA-Z]\\d[a-zA-Z]\\d\\d\\d\\d')"
   ]
  },
  {
   "cell_type": "code",
   "execution_count": 29,
   "metadata": {},
   "outputs": [
    {
     "name": "stderr",
     "output_type": "stream",
     "text": [
      "G:\\Anaconda\\lib\\site-packages\\ipykernel_launcher.py:1: DeprecationWarning: The default dtype for empty Series will be 'object' instead of 'float64' in a future version. Specify a dtype explicitly to silence this warning.\n",
      "  \"\"\"Entry point for launching an IPython kernel.\n"
     ]
    }
   ],
   "source": [
    "s = df1.apply(lambda x: pd.Series(x['DEPENDENT_SITES']),axis=1).stack().reset_index(level=1, drop=True)\n",
    "s.name = 'DEPENDENT_SITES'\n",
    "df2= df1.drop('DEPENDENT_SITES', axis=1).join(s).loc[:,('TTYPE','TICKET_NUMBER','PROVINCE','SITE_NAME','DEPENDENT_SITES'\n",
    "                                                                                  ,'TOTAL_2G_DOWN_SITES','TOTAL_3G_DOWN_SITES','TOTAL_4G_DOWN_SITES'\n",
    "                                                                                  ,'NUMBER_OF_SITE_DOWN', 'IMPACT','ALARM_CREATED_TIME','CREATION_DATE_TIME'\n",
    "                                                                                  ,'ALARM_ACKNOWLEDGE_TIME', 'IMPACT_START_DATE', 'IMPACT_END_DATE','EVENT_END_DATE'\n",
    "                                                                                  ,'LAST_JT_COMMENT_TIME','TICKET_DESCRIPTION','TICKET_TITLE','LAST_PROVINCE_UPDATE'\n",
    "                                                                                  ,'TICKET_STATUS','Health_Check','LAST_JT_COMMENT','CURRENT_ISSUE')]\n",
    "df2.reset_index(inplace=True)\n",
    "df2 = df2.drop(columns = 'index')"
   ]
  },
  {
   "cell_type": "code",
   "execution_count": 30,
   "metadata": {},
   "outputs": [],
   "source": [
    "df2['SITE_NAME']=df2['SITE_NAME'].str.findall(r'[a-zA-Z][a-zA-Z]\\d\\d\\d\\d|[a-zA-Z][a-zA-Z][a-zA-Z][a-zA-Z]\\d\\d\\d\\d|[a-zA-Z][a-zA-Z]\\d[a-zA-Z]\\d\\d\\d\\d|[a-zA-Z][a-zA-Z][a-zA-Z]\\d[a-zA-Z]\\d\\d\\d\\d')"
   ]
  },
  {
   "cell_type": "code",
   "execution_count": 31,
   "metadata": {},
   "outputs": [
    {
     "name": "stderr",
     "output_type": "stream",
     "text": [
      "G:\\Anaconda\\lib\\site-packages\\ipykernel_launcher.py:1: DeprecationWarning: The default dtype for empty Series will be 'object' instead of 'float64' in a future version. Specify a dtype explicitly to silence this warning.\n",
      "  \"\"\"Entry point for launching an IPython kernel.\n"
     ]
    }
   ],
   "source": [
    "z = df2.apply(lambda y: pd.Series(y['SITE_NAME']),axis=1).stack().reset_index(level=1, drop=True)\n",
    "z.name = 'SITE_NAME'\n",
    "df3= df2.drop('SITE_NAME', axis=1).join(z).loc[:,('TTYPE','TICKET_NUMBER','PROVINCE','SITE_NAME','DEPENDENT_SITES'\n",
    "                                                                                  ,'TOTAL_2G_DOWN_SITES','TOTAL_3G_DOWN_SITES','TOTAL_4G_DOWN_SITES'\n",
    "                                                                                  ,'NUMBER_OF_SITE_DOWN', 'IMPACT','ALARM_CREATED_TIME','CREATION_DATE_TIME'\n",
    "                                                                                  ,'ALARM_ACKNOWLEDGE_TIME', 'IMPACT_START_DATE', 'IMPACT_END_DATE','EVENT_END_DATE'\n",
    "                                                                                  ,'LAST_JT_COMMENT_TIME','TICKET_DESCRIPTION','TICKET_TITLE','LAST_PROVINCE_UPDATE'\n",
    "                                                                                  ,'TICKET_STATUS','Health_Check','LAST_JT_COMMENT','CURRENT_ISSUE')]\n",
    "df3.reset_index(inplace=True)\n",
    "df3 = df3.drop(columns = 'index')"
   ]
  },
  {
   "cell_type": "code",
   "execution_count": 32,
   "metadata": {},
   "outputs": [],
   "source": [
    "df3['description']=df3['TICKET_DESCRIPTION'].str.findall(r'[BR]\\d\\d\\d\\d[NHEW]|[BR]\\d\\d\\d[NHEW]|[a-zA-Z][a-zA-Z]\\d\\d\\d\\d|[a-zA-Z][a-zA-Z][a-zA-Z][a-zA-Z]\\d\\d\\d\\d|[a-zA-Z][a-zA-Z]\\d[a-zA-Z]\\d\\d\\d\\d|[a-zA-Z][a-zA-Z][a-zA-Z]\\d[a-zA-Z]\\d\\d\\d\\d')"
   ]
  },
  {
   "cell_type": "code",
   "execution_count": 33,
   "metadata": {},
   "outputs": [
    {
     "name": "stderr",
     "output_type": "stream",
     "text": [
      "G:\\Anaconda\\lib\\site-packages\\ipykernel_launcher.py:1: DeprecationWarning: The default dtype for empty Series will be 'object' instead of 'float64' in a future version. Specify a dtype explicitly to silence this warning.\n",
      "  \"\"\"Entry point for launching an IPython kernel.\n"
     ]
    }
   ],
   "source": [
    "x = df3.apply(lambda y: pd.Series(y['description']),axis=1).stack().reset_index(level=1, drop=True)\n",
    "x.name = 'description'\n",
    "df4= df3.drop('description', axis=1).join(x).loc[:,('TTYPE','TICKET_NUMBER','PROVINCE','SITE_NAME','DEPENDENT_SITES'\n",
    "                                                                                  ,'TOTAL_2G_DOWN_SITES','TOTAL_3G_DOWN_SITES','TOTAL_4G_DOWN_SITES'\n",
    "                                                                                  ,'NUMBER_OF_SITE_DOWN', 'IMPACT','ALARM_CREATED_TIME','CREATION_DATE_TIME'\n",
    "                                                                                  ,'ALARM_ACKNOWLEDGE_TIME', 'IMPACT_START_DATE', 'IMPACT_END_DATE','EVENT_END_DATE'\n",
    "                                                                                  ,'LAST_JT_COMMENT_TIME','TICKET_DESCRIPTION','TICKET_TITLE','LAST_PROVINCE_UPDATE'\n",
    "                                                                                  ,'TICKET_STATUS','Health_Check','description','LAST_JT_COMMENT','CURRENT_ISSUE')]\n",
    "df4.reset_index(inplace=True)\n",
    "df4 = df4.drop(columns = 'index')"
   ]
  },
  {
   "cell_type": "code",
   "execution_count": 34,
   "metadata": {},
   "outputs": [],
   "source": [
    "df4 = df4.replace({'PROVINCE' : {'ALBORZ': 'KJ', 'ARDABIL': 'AR','AZARGHARBI':'AG','AZARSHARGHI':'AS','BUSHEHR':'BU'\n",
    "                          ,'CHAHARMAHAL':'CH','ESFAHAN':'ES','FARS':'FS','GILAN':'GL','GOLESTAN':'GN','HAMEDAN':'HN'\n",
    "                          ,'HORMOZGAN':'HZ','ILAAM':'IL','KERMAN':'KM','KERMANSHAH':'KS','KHORASANRAZAVI':'KH'\n",
    "                          ,'KHUZESTAN':'KZ','KOHGILOOYEH':'KB','KURDESTAN':'KD','LORESTAN':'LN','MARKAZI':'MK'\n",
    "                          ,'MAZANDARAN':'MA','N KHORASAN':'NK','QAZVIN':'QN','QOM':'QM','S KHORASAN':'SK'\n",
    "                          ,'SEMNAN':'SM','SISTAN AND BALUCHESTAN':'SB',\n",
    "                         'SISTAN':'SB','KHORASNRAZAVI':'KH','ISFAHAN':'ES','ARADABIL':'AR','KOHKILOOYE':'KB'\n",
    "                        ,'TEHRAN':'TH','YAZD':'YZ','ZANJAN':'ZN','kerman':'KM' , 'GHOM':'QM'}});\n"
   ]
  },
  {
   "cell_type": "code",
   "execution_count": 35,
   "metadata": {},
   "outputs": [],
   "source": [
    "df66 = df4.loc[:,('TTYPE','TICKET_NUMBER','PROVINCE','SITE_NAME'\n",
    "                                                                                  ,'TOTAL_2G_DOWN_SITES','TOTAL_3G_DOWN_SITES','TOTAL_4G_DOWN_SITES'\n",
    "                                                                                  ,'NUMBER_OF_SITE_DOWN', 'IMPACT','ALARM_CREATED_TIME','CREATION_DATE_TIME'\n",
    "                                                                                  ,'ALARM_ACKNOWLEDGE_TIME', 'IMPACT_START_DATE', 'IMPACT_END_DATE','EVENT_END_DATE'\n",
    "                                                                                  ,'LAST_JT_COMMENT_TIME','TICKET_TITLE','LAST_PROVINCE_UPDATE'\n",
    "                                                                                  ,'TICKET_STATUS','Health_Check','TICKET_DESCRIPTION','LAST_JT_COMMENT','CURRENT_ISSUE')]"
   ]
  },
  {
   "cell_type": "code",
   "execution_count": 36,
   "metadata": {},
   "outputs": [],
   "source": [
    "df77 = df4.loc[:,('TTYPE','TICKET_NUMBER','PROVINCE','DEPENDENT_SITES'\n",
    "                                                                                  ,'TOTAL_2G_DOWN_SITES','TOTAL_3G_DOWN_SITES','TOTAL_4G_DOWN_SITES'\n",
    "                                                                                  ,'NUMBER_OF_SITE_DOWN', 'IMPACT','ALARM_CREATED_TIME','CREATION_DATE_TIME'\n",
    "                                                                                  ,'ALARM_ACKNOWLEDGE_TIME', 'IMPACT_START_DATE', 'IMPACT_END_DATE','EVENT_END_DATE'\n",
    "                                                                                  ,'LAST_JT_COMMENT_TIME','TICKET_TITLE','LAST_PROVINCE_UPDATE'\n",
    "                                                                                  ,'TICKET_STATUS','Health_Check','TICKET_DESCRIPTION','LAST_JT_COMMENT','CURRENT_ISSUE')]"
   ]
  },
  {
   "cell_type": "code",
   "execution_count": 37,
   "metadata": {},
   "outputs": [],
   "source": [
    "df88 = df4.loc[:,('TTYPE','TICKET_NUMBER','PROVINCE','description'\n",
    "                                                                                  ,'TOTAL_2G_DOWN_SITES','TOTAL_3G_DOWN_SITES','TOTAL_4G_DOWN_SITES'\n",
    "                                                                                  ,'NUMBER_OF_SITE_DOWN', 'IMPACT','ALARM_CREATED_TIME','CREATION_DATE_TIME'\n",
    "                                                                                  ,'ALARM_ACKNOWLEDGE_TIME', 'IMPACT_START_DATE', 'IMPACT_END_DATE','EVENT_END_DATE'\n",
    "                                                                                  ,'LAST_JT_COMMENT_TIME','TICKET_TITLE','LAST_PROVINCE_UPDATE'\n",
    "                                                                                  ,'TICKET_STATUS','Health_Check','TICKET_DESCRIPTION','LAST_JT_COMMENT','CURRENT_ISSUE')]"
   ]
  },
  {
   "cell_type": "code",
   "execution_count": 38,
   "metadata": {},
   "outputs": [],
   "source": [
    "df66.drop_duplicates(inplace=True)\n",
    "df77.drop_duplicates(inplace=True)\n",
    "df88.drop_duplicates(inplace=True)"
   ]
  },
  {
   "cell_type": "code",
   "execution_count": 39,
   "metadata": {},
   "outputs": [],
   "source": [
    "df77.columns = df66.columns\n",
    "df88.columns = df66.columns"
   ]
  },
  {
   "cell_type": "code",
   "execution_count": 40,
   "metadata": {},
   "outputs": [],
   "source": [
    "df_merged= pd.DataFrame()"
   ]
  },
  {
   "cell_type": "code",
   "execution_count": 41,
   "metadata": {},
   "outputs": [],
   "source": [
    "df_merged = df_merged.append(df66,ignore_index=True,sort=False)\n",
    "df_merged = df_merged.append(df77,ignore_index=True,sort=False)\n",
    "df_merged = df_merged.append(df88,ignore_index=True,sort=False)\n",
    "df_merged.drop_duplicates(inplace=True)"
   ]
  },
  {
   "cell_type": "code",
   "execution_count": 42,
   "metadata": {},
   "outputs": [],
   "source": [
    " df_merged.to_excel('G:/Python_Codes/Notebooks/Tickets/Tickets_Open_Clean.xlsx')"
   ]
  }
 ],
 "metadata": {
  "kernelspec": {
   "display_name": "Python 3",
   "language": "python",
   "name": "python3"
  },
  "language_info": {
   "codemirror_mode": {
    "name": "ipython",
    "version": 3
   },
   "file_extension": ".py",
   "mimetype": "text/x-python",
   "name": "python",
   "nbconvert_exporter": "python",
   "pygments_lexer": "ipython3",
   "version": "3.7.0"
  }
 },
 "nbformat": 4,
 "nbformat_minor": 2
}
